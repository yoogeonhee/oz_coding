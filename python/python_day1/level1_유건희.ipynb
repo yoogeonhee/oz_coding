{
 "cells": [
  {
   "cell_type": "markdown",
   "metadata": {
    "id": "WXEwMsfUct7U"
   },
   "source": [
    "안녕하세요.<br><br>\n",
    "수강생 여러분~! \n",
    "\n",
    "\"Challenge : 사칙연산을 이용해 문제 풀기\"는 잘 풀어보셨나요?\n",
    "\n",
    "\n",
    "너~~무 어려웠어요! 하는 분들을 위해 만들어봤습니다!\n",
    "\n",
    "문제 도장깨기 !!!!!\n",
    "\n",
    "차근차근 풀어나가면 파이썬 정복 가능입니다!\n",
    "\n",
    "화이팅 !\n",
    "\n",
    "\n",
    "Chapter04의 수업 내용을 바탕으로 아래 문제를 풀어주시면 됩니다.\n",
    "\n",
    "<br>\n",
    "\n",
    "[**답변 입력 방법**]\n",
    "\n",
    "문제 아래에 있는 코드 입력창에 정답코드를 작성하신 후  __▷ 버튼을 클릭해 코드를 실행__ 해보세요<br>\n",
    "<br>"
   ]
  },
  {
   "cell_type": "markdown",
   "metadata": {
    "id": "qoyC9wF-3hvs"
   },
   "source": [
    "-----"
   ]
  },
  {
   "cell_type": "markdown",
   "metadata": {},
   "source": [
    "<br>\n",
    "\n",
    "__[문제1]__\n",
    "\n",
    "한 상자에 사과가 7개 들어있습니다. \n",
    "\n",
    "사과가 많이 먹고 싶어서 3개의 상자를 구입했습니다!\n",
    "\n",
    "총 사과의 개수를 계산해주세요.\n",
    "\n",
    "\n",
    "<br>"
   ]
  },
  {
   "cell_type": "code",
   "execution_count": 7,
   "metadata": {},
   "outputs": [
    {
     "name": "stdout",
     "output_type": "stream",
     "text": [
      "21개\n"
     ]
    }
   ],
   "source": [
    "#a=사과상자(개)\n",
    "\n",
    "a=7\n",
    "\n",
    "print(f\"{a*3}개\") "
   ]
  },
  {
   "cell_type": "markdown",
   "metadata": {},
   "source": [
    "<br>\n",
    "\n",
    "__[문제2]__\n",
    "\n",
    "영화 티켓 한 장의 가격은 10,000원입니다. \n",
    "\n",
    "친구 한명이 로또에 당첨되서 티켓을 사준다고 합니다!\n",
    "\n",
    "4명의 친구가 각각 4장씩 구매할 때, 총 가격이 어떻게 되는지 계산해주세요\n",
    "\n",
    "<br>"
   ]
  },
  {
   "cell_type": "code",
   "execution_count": 6,
   "metadata": {},
   "outputs": [
    {
     "name": "stdout",
     "output_type": "stream",
     "text": [
      "160000원\n"
     ]
    }
   ],
   "source": [
    "# a=영화티켓(장) b=친구(명)\n",
    "\n",
    "a=10000\n",
    "b=4\n",
    "\n",
    "print(f\"{(a*b)*4}원\")\n"
   ]
  },
  {
   "cell_type": "markdown",
   "metadata": {
    "id": "rAD_O3Gmc_43"
   },
   "source": [
    "<br>\n",
    "\n",
    "__[문제3]__\n",
    "\n",
    "지각입니다 !!!!!\n",
    "\n",
    "지하철을 타고 5개의 역이 남았습니다. \n",
    "\n",
    "각 역은 3분씩 걸립니다. 시간을 계산해볼 수 있도록 5개의 역을 지나는데 걸린 총 시간을 구해주세요.\n",
    "\n"
   ]
  },
  {
   "cell_type": "code",
   "execution_count": 5,
   "metadata": {
    "id": "74wtVQFFc_h1"
   },
   "outputs": [
    {
     "name": "stdout",
     "output_type": "stream",
     "text": [
      "15분\n"
     ]
    }
   ],
   "source": [
    "# a=남은역(개), b=걸리는시간(분)\n",
    "a=5\n",
    "b=3\n",
    "print(f\"{a*b}분\")"
   ]
  },
  {
   "cell_type": "markdown",
   "metadata": {
    "id": "3uK_auXYdgk2"
   },
   "source": [
    "<br>__[문제4]__\n",
    "\n",
    "파이썬 기초 관련 책이 9권 있습니다.\n",
    "\n",
    "오즈코딩스쿨을 통해 파이썬을 마스터 해버려서 필요없습니다.\n",
    "\n",
    "책을 3명의 친구에게 똑같이 나눠줄 때, 각 사람에게 몇 권씩 나누어줄 수 있을까요?\n"
   ]
  },
  {
   "cell_type": "code",
   "execution_count": 8,
   "metadata": {
    "id": "9kvBxa6PdhgA"
   },
   "outputs": [
    {
     "name": "stdout",
     "output_type": "stream",
     "text": [
      "3.0권\n"
     ]
    }
   ],
   "source": [
    "#a=책(권), b=친구(명)\n",
    "\n",
    "a=9\n",
    "b=3\n",
    "\n",
    "print(f\"{a/b}권\")"
   ]
  },
  {
   "cell_type": "markdown",
   "metadata": {
    "id": "2Jte2VLKdiPm"
   },
   "source": [
    "__[문제5]__\n",
    "\n",
    "무인도에 2명의 갇혀있습니다.\n",
    "\n",
    "가진건 초콜릿 8개뿐,,\n",
    "\n",
    "각 사람은 초콜릿을 몇 개씩 먹을 수 있을까요?\n",
    "\n"
   ]
  },
  {
   "cell_type": "code",
   "execution_count": 9,
   "metadata": {},
   "outputs": [
    {
     "name": "stdout",
     "output_type": "stream",
     "text": [
      "4.0개\n"
     ]
    }
   ],
   "source": [
    "#a=사람(명), b=초콜릿(개)\n",
    "\n",
    "a=2\n",
    "b=8\n",
    "\n",
    "print(f\"{b/a}개\")"
   ]
  }
 ],
 "metadata": {
  "colab": {
   "authorship_tag": "ABX9TyM3gebHvdgzn1rFsPHWTyo9",
   "provenance": []
  },
  "kernelspec": {
   "display_name": "Python 3",
   "name": "python3"
  },
  "language_info": {
   "codemirror_mode": {
    "name": "ipython",
    "version": 3
   },
   "file_extension": ".py",
   "mimetype": "text/x-python",
   "name": "python",
   "nbconvert_exporter": "python",
   "pygments_lexer": "ipython3",
   "version": "3.12.6"
  }
 },
 "nbformat": 4,
 "nbformat_minor": 0
}
