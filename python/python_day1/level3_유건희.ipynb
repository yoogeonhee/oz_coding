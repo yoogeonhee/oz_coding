{
 "cells": [
  {
   "cell_type": "markdown",
   "metadata": {
    "id": "WXEwMsfUct7U"
   },
   "source": [
    "안녕하세요.<br><br>\n",
    "수강생 여러분~! \n",
    "\n",
    "\"Challenge : 사칙연산을 이용해 문제 풀기\"는 잘 풀어보셨나요?\n",
    "\n",
    "\n",
    "너~~무 어려웠어요! 하는 분들을 위해 만들어봤습니다!\n",
    "\n",
    "문제 도장깨기 !!!!!\n",
    "\n",
    "수학적 사고도 한번 길러보세용 :)\n",
    "\n",
    "차근차근 풀어나가면 파이썬 정복 가능입니다!\n",
    "\n",
    "화이팅 !\n",
    "\n",
    "\n",
    "Chapter04의 수업 내용을 바탕으로 아래 문제를 풀어주시면 됩니다.\n",
    "\n",
    "<br>\n",
    "\n",
    "[**답변 입력 방법**]\n",
    "\n",
    "문제 아래에 있는 코드 입력창에 정답코드를 작성하신 후  __▷ 버튼을 클릭해 코드를 실행__ 해보세요<br>\n",
    "<br>"
   ]
  },
  {
   "cell_type": "markdown",
   "metadata": {
    "id": "qoyC9wF-3hvs"
   },
   "source": [
    "-----"
   ]
  },
  {
   "cell_type": "markdown",
   "metadata": {},
   "source": [
    "<br>\n",
    "\n",
    "__[문제1]__\n",
    "\n",
    "어떤 공원의 크기는 가로 50m, 세로 30m입니다. \n",
    "\n",
    "공원 내부에 5개의 조형물이 있으며, 각 조형물의 면적은 10m²입니다. \n",
    "\n",
    "이 공원의 실제 사용 면적을 구하세요. (cm로 구해주세요)\n",
    "\n",
    "\n"
   ]
  },
  {
   "cell_type": "code",
   "execution_count": 74,
   "metadata": {},
   "outputs": [
    {
     "name": "stdout",
     "output_type": "stream",
     "text": [
      "1000\n"
     ]
    }
   ],
   "source": [
    "#a=가로(m), b=세로(m), c=조형물면적(m*m)\n",
    "\n",
    "a=50 \n",
    "b=30\n",
    "c=10*10\n",
    "\n",
    "print(a*b-5*c)"
   ]
  },
  {
   "cell_type": "markdown",
   "metadata": {},
   "source": [
    "<br>\n",
    "\n",
    "__[문제2]__\n",
    "\n",
    "2권씩 묶여서 팔리는 책의 가격은 12,000원입니다. \n",
    "\n",
    "나는 3묶음을 살 겁니다.\n",
    "\n",
    "근데 최종 가격을 보니 10%의 세금이 붙어있습니다.\n",
    "\n",
    "최종 가격을 구해주세요."
   ]
  },
  {
   "cell_type": "code",
   "execution_count": null,
   "metadata": {},
   "outputs": [
    {
     "name": "stdout",
     "output_type": "stream",
     "text": [
      "37800.0원\n"
     ]
    }
   ],
   "source": [
    "#a=책(원)\n",
    "\n",
    "a=12000/2\n",
    "\n",
    "print(f\"{((2*a)*3)+(((2*a)*3)*0.05)}원\")\n"
   ]
  },
  {
   "cell_type": "markdown",
   "metadata": {},
   "source": [
    "<br>\n",
    "\n",
    "__[문제3]__\n",
    "\n",
    "가로 20m, 세로 15m인 직사각형 정원의 면적을 구하세요.\n"
   ]
  },
  {
   "cell_type": "code",
   "execution_count": 65,
   "metadata": {
    "id": "74wtVQFFc_h1"
   },
   "outputs": [
    {
     "name": "stdout",
     "output_type": "stream",
     "text": [
      "300m\n"
     ]
    }
   ],
   "source": [
    "#가로=20(m), 세로=15(m)\n",
    "a=20\n",
    "b=15\n",
    "print(f\"{20*15}m\")"
   ]
  },
  {
   "cell_type": "markdown",
   "metadata": {},
   "source": [
    "<br>\n",
    "\n",
    "__[문제3-1]__\n",
    "\n",
    "문제 1에서 구한 정원의 면적에서, 정원의 5%를 차지하는 풀밭 면적을 구하세요.\n",
    "\n",
    "\n"
   ]
  },
  {
   "cell_type": "code",
   "execution_count": 75,
   "metadata": {
    "id": "9kvBxa6PdhgA"
   },
   "outputs": [
    {
     "name": "stdout",
     "output_type": "stream",
     "text": [
      "15.0m\n"
     ]
    }
   ],
   "source": [
    "#가로=20(m), 세로=15(m) c=정원면적(m)\n",
    "a=20\n",
    "b=15\n",
    "c=300\n",
    "print(f\"{c*0.05}m\")"
   ]
  },
  {
   "cell_type": "markdown",
   "metadata": {
    "id": "2Jte2VLKdiPm"
   },
   "source": [
    "__[문제3-2]__\n",
    "\n",
    "풀밭 면적을 제외한 나머지 정원의 면적에 나무를 심고 싶습니다.\n",
    "\n",
    "나무 1그루가 차지하는 면적이 2m²일 때, 심을 수 있는 나무의 최대 개수를 구하세요."
   ]
  },
  {
   "cell_type": "code",
   "execution_count": 79,
   "metadata": {},
   "outputs": [
    {
     "name": "stdout",
     "output_type": "stream",
     "text": [
      "71개\n"
     ]
    }
   ],
   "source": [
    "#가로=20(m), 세로=15(m) c=정원면적(m) d=풀밭면적(m) e=나무면적(m)\n",
    "a=20\n",
    "b=15\n",
    "c=300\n",
    "d=15\n",
    "e=2*2\n",
    "print(f\"{(c-d)//e}개\")"
   ]
  }
 ],
 "metadata": {
  "colab": {
   "authorship_tag": "ABX9TyM3gebHvdgzn1rFsPHWTyo9",
   "provenance": []
  },
  "kernelspec": {
   "display_name": "Python 3",
   "name": "python3"
  },
  "language_info": {
   "codemirror_mode": {
    "name": "ipython",
    "version": 3
   },
   "file_extension": ".py",
   "mimetype": "text/x-python",
   "name": "python",
   "nbconvert_exporter": "python",
   "pygments_lexer": "ipython3",
   "version": "3.12.6"
  }
 },
 "nbformat": 4,
 "nbformat_minor": 0
}
