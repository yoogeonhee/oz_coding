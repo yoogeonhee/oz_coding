{
 "cells": [
  {
   "cell_type": "markdown",
   "metadata": {
    "id": "WXEwMsfUct7U"
   },
   "source": [
    "안녕하세요.<br><br>\n",
    "수강생 여러분~! \n",
    "\n",
    "\"Challenge : 사칙연산을 이용해 문제 풀기\"는 잘 풀어보셨나요?\n",
    "\n",
    "\n",
    "너~~무 어려웠어요! 하는 분들을 위해 만들어봤습니다!\n",
    "\n",
    "문제 도장깨기 !!!!!\n",
    "\n",
    "차근차근 풀어나가면 파이썬 정복 가능입니다!\n",
    "\n",
    "화이팅 !\n",
    "\n",
    "\n",
    "Chapter04의 수업 내용을 바탕으로 아래 문제를 풀어주시면 됩니다.\n",
    "\n",
    "<br>\n",
    "\n",
    "[**답변 입력 방법**]\n",
    "\n",
    "문제 아래에 있는 코드 입력창에 정답코드를 작성하신 후  __▷ 버튼을 클릭해 코드를 실행__ 해보세요<br>\n",
    "<br>"
   ]
  },
  {
   "cell_type": "markdown",
   "metadata": {
    "id": "qoyC9wF-3hvs"
   },
   "source": [
    "-----"
   ]
  },
  {
   "cell_type": "markdown",
   "metadata": {},
   "source": [
    "<br>\n",
    "\n",
    "__[문제1]__\n",
    "\n",
    "한 주머니에 사탕이 5개씩 들어있습니다. \n",
    "\n",
    "바리바리스타인 나에게는 3개의 주머니가 있습니다! \n",
    "\n",
    "근데 길가다가 사탕을 주웠습니다. 그래서 사탕 3개가 주머니에 더 추가되었습니다. \n",
    "\n",
    "최종적으로 주머니에 들어있는 사탕의 총 개수는 얼마인가요?\n",
    "\n",
    "<br>"
   ]
  },
  {
   "cell_type": "code",
   "execution_count": 3,
   "metadata": {},
   "outputs": [
    {
     "name": "stdout",
     "output_type": "stream",
     "text": [
      "18개\n"
     ]
    }
   ],
   "source": [
    "#a=사탕(개), b=주머니(개)\n",
    "\n",
    "a=1\n",
    "b=5*a\n",
    "\n",
    "print(f\"{b*3+a*3}개\")"
   ]
  },
  {
   "cell_type": "markdown",
   "metadata": {},
   "source": [
    "<br>\n",
    "\n",
    "__[문제2]__\n",
    "\n",
    "10명이 각자 4개의 공을 가지고 있습니다. \n",
    "\n",
    "운이 좋은 3명이 2개의 공을 더 받았습니다. \n",
    "\n",
    "10명이 가진 모든 공의 총 개수를 구하세요.\n"
   ]
  },
  {
   "cell_type": "code",
   "execution_count": null,
   "metadata": {},
   "outputs": [
    {
     "name": "stdout",
     "output_type": "stream",
     "text": [
      "46개\n"
     ]
    }
   ],
   "source": [
    "# a=사람(명), b=공(개)\n",
    "\n",
    "a=1\n",
    "b=1\n",
    "\n",
    "print(f\"{(a*10)*(b*4)+((a*3)*2)}개\")"
   ]
  },
  {
   "cell_type": "markdown",
   "metadata": {},
   "source": [
    "<br>\n",
    "\n",
    "__[문제3]__\n",
    "\n",
    "5명의 학생이 3시간씩 공부했습니다. \n",
    "\n",
    "이상한 강박관념이 있는 나는 모든 시간을 분으로 계산하고 싶습니다.\n",
    "\n",
    "대신 계산해주세요 ! \n"
   ]
  },
  {
   "cell_type": "code",
   "execution_count": null,
   "metadata": {
    "id": "74wtVQFFc_h1"
   },
   "outputs": [
    {
     "name": "stdout",
     "output_type": "stream",
     "text": [
      "900\n"
     ]
    }
   ],
   "source": [
    "#a=학생(명), b=공부시간(시), c=분(분)\n",
    "    \n",
    "a=5\n",
    "b=3\n",
    "c=60\n",
    "\n",
    "print(f\"{a*b*c}\")"
   ]
  },
  {
   "cell_type": "markdown",
   "metadata": {},
   "source": [
    "<br>\n",
    "\n",
    "__[문제4]__\n",
    "\n",
    "차가 9리터의 연료를 가지고 있습니다. \n",
    "\n",
    "연료가 3일 동안 계속 줄어들며, 하루에 2리터씩 소비됩니다. \n",
    "\n",
    "3일 뒤 차에 남은 연료는 몇 리터인가요?"
   ]
  },
  {
   "cell_type": "code",
   "execution_count": null,
   "metadata": {
    "id": "9kvBxa6PdhgA"
   },
   "outputs": [
    {
     "name": "stdout",
     "output_type": "stream",
     "text": [
      "3L\n"
     ]
    }
   ],
   "source": [
    "#a=차의 보유 연료(L), b=1일당 연료 사용량(L)\n",
    "\n",
    "a=9\n",
    "b=2\n",
    "\n",
    "print(f\"{a-3*b}L\")"
   ]
  },
  {
   "cell_type": "markdown",
   "metadata": {
    "id": "2Jte2VLKdiPm"
   },
   "source": [
    "__[문제5]__\n",
    "\n",
    "어떤 정사각형의 넓이가 144cm²입니다. \n",
    "\n",
    "정사각형의 한 변의 길이를 구하세요.\n"
   ]
  },
  {
   "cell_type": "code",
   "execution_count": 21,
   "metadata": {},
   "outputs": [
    {
     "name": "stdout",
     "output_type": "stream",
     "text": [
      "12.0cm\n"
     ]
    }
   ],
   "source": [
    "#a=넓이(cm*cm)\n",
    "\n",
    "a=144\n",
    "\n",
    "print(f\"{a**0.5}cm\")"
   ]
  }
 ],
 "metadata": {
  "colab": {
   "authorship_tag": "ABX9TyM3gebHvdgzn1rFsPHWTyo9",
   "provenance": []
  },
  "kernelspec": {
   "display_name": "Python 3",
   "name": "python3"
  },
  "language_info": {
   "codemirror_mode": {
    "name": "ipython",
    "version": 3
   },
   "file_extension": ".py",
   "mimetype": "text/x-python",
   "name": "python",
   "nbconvert_exporter": "python",
   "pygments_lexer": "ipython3",
   "version": "3.12.6"
  }
 },
 "nbformat": 4,
 "nbformat_minor": 0
}
