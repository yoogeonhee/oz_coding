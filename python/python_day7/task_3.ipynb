{
 "cells": [
  {
   "cell_type": "markdown",
   "metadata": {},
   "source": [
    "사용자로부터 여러 개의 숫자를 입력받아 리스트에 저장한 후, 사용자가 'done'이라고 입력할 때까지 계속 입력받으세요. \n",
    "\n",
    "- 입력 중 숫자가 아닌 값이 입력되면 ValueError를 처리\n",
    "- 숫자 외 값이 입력된 경우 어떤 값이 잘못 입력되었는지 사용자에게 알려주는 문구 출력<br>\n",
    "  (예: f\"잘못된 값: {변수}. 숫자를 입력해주세요.\")\n",
    "\n"
   ]
  },
  {
   "cell_type": "code",
   "execution_count": null,
   "metadata": {},
   "outputs": [],
   "source": [
    "def list1():\n",
    "    try:\n",
    "        finish = input()\n",
    "        while True:\n",
    "            if finish == \"done\":\n",
    "                print(\"종료합니다.\")\n",
    "            break\n",
    "    except:\n",
    "        list = []\n",
    "        num = input(finish)\n",
    "        for i in num:\n",
    "            list.append(i),\n",
    "            print(list)\n",
    "            return\n",
    "            \n",
    "        else:\n",
    "            print(f\"잘못된 값은num입니다. 숫자을 입력해주세요.\")\n",
    "            return\n",
    "        \n",
    "list1()"
   ]
  },
  {
   "cell_type": "code",
   "execution_count": null,
   "metadata": {},
   "outputs": [],
   "source": [
    "numbers = []\n",
    "while True:\n",
    "    try:\n",
    "        num = input(\"숫자를 입력하세요 ('done'이면 종료): \")\n",
    "        if  num == 'done':\n",
    "            break\n",
    "        else:\n",
    "            numbers.append(int(num))\n",
    "    except ValueError:\n",
    "        print(f\"잘못된 값: {num}. 숫자를 입력해주세요.\")\n",
    "\n",
    "        #3시간 동안 고민하다 답을 봤는데 허무합니다.. 이렇게 하면 되나 저렇게 하면 되나 계속 고민해봤는데 생각한게 저리 간단한거라니 너무 어렵게 생각했네요...\n"
   ]
  }
 ],
 "metadata": {
  "kernelspec": {
   "display_name": "Python 3",
   "language": "python",
   "name": "python3"
  },
  "language_info": {
   "codemirror_mode": {
    "name": "ipython",
    "version": 3
   },
   "file_extension": ".py",
   "mimetype": "text/x-python",
   "name": "python",
   "nbconvert_exporter": "python",
   "pygments_lexer": "ipython3",
   "version": "3.12.6"
  }
 },
 "nbformat": 4,
 "nbformat_minor": 2
}
